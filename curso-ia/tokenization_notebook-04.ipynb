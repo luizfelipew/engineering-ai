{
 "cells": [
  {
   "cell_type": "code",
   "execution_count": 2,
   "id": "b715e0ca",
   "metadata": {},
   "outputs": [],
   "source": [
    "import nltk\n",
    "import numpy as np\n",
    "from rank_bm25 import BM25Okapi\n",
    "\n",
    "documents = [\n",
    "    \"Machine learning é um campo da inteligência artificial que permite que computadores aprendam padrões a partir de dados.\",\n",
    "    \"O aprendizado de máquina dá aos sistemas a capacidade de melhorar seu desempenho sem serem explicitamente programados.\",\n",
    "    \"Em vez de seguir apenas regras fixas, o machine learning descobre relações escondidas nos dados.\",\n",
    "    \"Esse campo combina estatística, algoritmos e poder computacional para extrair conhecimento.\",\n",
    "    \"O objetivo é criar modelos capazes de generalizar além dos exemplos vistos no treinamento.\",\n",
    "    \"Aplicações de machine learning vão desde recomendações de filmes até diagnósticos médicos.\",\n",
    "    \"Os algoritmos de aprendizado de máquina transformam dados brutos em previsões úteis.\",\n",
    "    \"Diferente de um software tradicional, o ML adapta-se conforme novos dados chegam.\",\n",
    "    \"O aprendizado pode ser supervisionado, não supervisionado ou por reforço, dependendo do tipo de problema.\",\n",
    "    \"Na prática, machine learning é o motor que impulsiona muitos avanços em visão computacional e processamento de linguagem natural.\",\n",
    "    \"Mais do que encontrar padrões, o machine learning ajuda a tomar decisões baseadas em evidências.\",\n",
    "]"
   ]
  },
  {
   "cell_type": "code",
   "execution_count": 3,
   "id": "e3659fed",
   "metadata": {},
   "outputs": [],
   "source": [
    "def preprocess(text):\n",
    "    # Tokenização em palavras\n",
    "    tokens = nltk.word_tokenize(text.lower())\n",
    "    # word.isalnum() elimina tudo que não seja alphanumérico , tipo ruidos que não servem para análise\n",
    "    return [word for word in tokens if word.isalnum()]\n"
   ]
  },
  {
   "cell_type": "code",
   "execution_count": 5,
   "id": "3434c69d",
   "metadata": {},
   "outputs": [],
   "source": [
    "tokenized_docs = [preprocess(doc) for doc in documents]\n",
    "\n",
    "bm25 = BM25Okapi(tokenized_docs)\n",
    "\n",
    "query = \"machine learning\""
   ]
  },
  {
   "cell_type": "code",
   "execution_count": 6,
   "id": "91ea5a02",
   "metadata": {},
   "outputs": [],
   "source": [
    "def search_bm25(query, bm25):\n",
    "    tokenized_query = preprocess(query)\n",
    "    results = bm25.get_scores(tokenized_query)\n",
    "    return results"
   ]
  },
  {
   "cell_type": "code",
   "execution_count": 8,
   "id": "38786486",
   "metadata": {},
   "outputs": [
    {
     "data": {
      "text/plain": [
       "array([0.30089606, 0.        , 0.32852937, 0.        , 0.        ,\n",
       "       0.36175144, 0.        , 0.        , 0.        , 0.2926898 ,\n",
       "       0.32852937])"
      ]
     },
     "execution_count": 8,
     "metadata": {},
     "output_type": "execute_result"
    }
   ],
   "source": [
    "results = search_bm25(query, bm25)\n",
    "results"
   ]
  },
  {
   "cell_type": "code",
   "execution_count": 11,
   "id": "1a6d9c10",
   "metadata": {},
   "outputs": [
    {
     "data": {
      "text/plain": [
       "array([ 5, 10,  2,  0,  9,  8,  7,  6,  4,  3,  1])"
      ]
     },
     "execution_count": 11,
     "metadata": {},
     "output_type": "execute_result"
    }
   ],
   "source": [
    "# Ele ordena os resultados baseado na relevancia da query\n",
    "np.argsort(results)[::-1] "
   ]
  },
  {
   "cell_type": "code",
   "execution_count": 13,
   "id": "08aea269",
   "metadata": {},
   "outputs": [
    {
     "name": "stdout",
     "output_type": "stream",
     "text": [
      "Documento: 5 (Score: 0.36): Aplicações de machine learning vão desde recomendações de filmes até diagnósticos médicos.\n",
      "Documento: 10 (Score: 0.33): Mais do que encontrar padrões, o machine learning ajuda a tomar decisões baseadas em evidências.\n",
      "Documento: 2 (Score: 0.33): Em vez de seguir apenas regras fixas, o machine learning descobre relações escondidas nos dados.\n",
      "Documento: 0 (Score: 0.30): Machine learning é um campo da inteligência artificial que permite que computadores aprendam padrões a partir de dados.\n",
      "Documento: 9 (Score: 0.29): Na prática, machine learning é o motor que impulsiona muitos avanços em visão computacional e processamento de linguagem natural.\n",
      "Documento: 8 (Score: 0.00): O aprendizado pode ser supervisionado, não supervisionado ou por reforço, dependendo do tipo de problema.\n",
      "Documento: 7 (Score: 0.00): Diferente de um software tradicional, o ML adapta-se conforme novos dados chegam.\n",
      "Documento: 6 (Score: 0.00): Os algoritmos de aprendizado de máquina transformam dados brutos em previsões úteis.\n",
      "Documento: 4 (Score: 0.00): O objetivo é criar modelos capazes de generalizar além dos exemplos vistos no treinamento.\n",
      "Documento: 3 (Score: 0.00): Esse campo combina estatística, algoritmos e poder computacional para extrair conhecimento.\n",
      "Documento: 1 (Score: 0.00): O aprendizado de máquina dá aos sistemas a capacidade de melhorar seu desempenho sem serem explicitamente programados.\n"
     ]
    }
   ],
   "source": [
    "for i in np.argsort(results)[::-1]:\n",
    "    print(f\"Documento: {i} (Score: {results[i]:.2f}): {documents[i]}\")\n",
    "    # print(f\"Documento: {documents[i]}\")"
   ]
  },
  {
   "cell_type": "code",
   "execution_count": null,
   "id": "754f51e9",
   "metadata": {},
   "outputs": [],
   "source": []
  }
 ],
 "metadata": {
  "kernelspec": {
   "display_name": "curso-ia (3.13.2)",
   "language": "python",
   "name": "python3"
  },
  "language_info": {
   "codemirror_mode": {
    "name": "ipython",
    "version": 3
   },
   "file_extension": ".py",
   "mimetype": "text/x-python",
   "name": "python",
   "nbconvert_exporter": "python",
   "pygments_lexer": "ipython3",
   "version": "3.13.2"
  }
 },
 "nbformat": 4,
 "nbformat_minor": 5
}
