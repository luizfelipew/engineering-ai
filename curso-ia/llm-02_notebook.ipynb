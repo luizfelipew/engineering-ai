{
 "cells": [
  {
   "cell_type": "code",
   "execution_count": 6,
   "id": "2ca18f7f",
   "metadata": {},
   "outputs": [],
   "source": [
    "import openai\n",
    "import os\n",
    "from dotenv import load_dotenv\n",
    "\n",
    "load_dotenv()\n",
    "\n",
    "openai.api_key = os.getenv(\"OPENAI_API_KEY\")\n",
    "client = openai.Client(base_url=\"https://api.groq.com/openai/v1\")"
   ]
  },
  {
   "cell_type": "code",
   "execution_count": null,
   "id": "09755332",
   "metadata": {},
   "outputs": [
    {
     "name": "stdout",
     "output_type": "stream",
     "text": [
      "[ResponseReasoningItem(id='resp_01k8w04qskfgv8bpmsskz52f83', summary=[], type='reasoning', content=None, encrypted_content=None, status='completed'), ResponseOutputMessage(id='msg_01k8w04qskfgvrz9wf4ns8dsvq', content=[ResponseOutputText(annotations=[], text='Machine Learning (ML) é uma subárea da inteligência artificial que permita a criação de algoritmos capazes de aprender com dados e experiencia, fazendo predições e tomadas de decisão sem ser explicitamente programados. É um processo em que uma máquina analisa dados, identifica padrões e ajusta suas ações com base na experiência para melhorar suas habilidades de previsão e classificação.', type='output_text', logprobs=None)], role='assistant', status='completed', type='message')]\n",
      "Machine Learning (ML) é uma subárea da inteligência artificial que permita a criação de algoritmos capazes de aprender com dados e experiencia, fazendo predições e tomadas de decisão sem ser explicitamente programados. É um processo em que uma máquina analisa dados, identifica padrões e ajusta suas ações com base na experiência para melhorar suas habilidades de previsão e classificação.\n"
     ]
    }
   ],
   "source": [
    "response = client.responses.create(\n",
    "    model=\"llama-3.1-8b-instant\",\n",
    "    instructions=\"Responda de forma simples em apenas 1 parágrafo curto.\",\n",
    "    input=\"O que é machine learning?\",\n",
    "    temperature=0\n",
    ")\n",
    "\n",
    "print(response.output_text)"
   ]
  },
  {
   "cell_type": "code",
   "execution_count": null,
   "id": "005dddb9",
   "metadata": {},
   "outputs": [],
   "source": []
  }
 ],
 "metadata": {
  "kernelspec": {
   "display_name": "curso-ia (3.13.2)",
   "language": "python",
   "name": "python3"
  },
  "language_info": {
   "codemirror_mode": {
    "name": "ipython",
    "version": 3
   },
   "file_extension": ".py",
   "mimetype": "text/x-python",
   "name": "python",
   "nbconvert_exporter": "python",
   "pygments_lexer": "ipython3",
   "version": "3.13.2"
  }
 },
 "nbformat": 4,
 "nbformat_minor": 5
}
