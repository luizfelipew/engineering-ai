{
 "cells": [
  {
   "cell_type": "code",
   "execution_count": 3,
   "id": "754d2c89",
   "metadata": {},
   "outputs": [],
   "source": [
    "from groq import Groq\n",
    "import os\n",
    "from dotenv import load_dotenv\n",
    "\n",
    "load_dotenv()\n",
    "\n",
    "Groq.api_key = os.getenv(\"GROQ_API_KEY\")\n",
    "\n",
    "client = Groq()"
   ]
  },
  {
   "cell_type": "code",
   "execution_count": 5,
   "id": "a77466d2",
   "metadata": {},
   "outputs": [
    {
     "name": "stdout",
     "output_type": "stream",
     "text": [
      "O machine learning (ML) é uma subárea da inteligência artificial (IA) que permite que as máquinas aprendam a partir de dados e experiências, melhorando suas habilidades e tomadas de decisões ao longo do tempo.\n",
      "\n",
      "Imagine que você está ensinando um filho a reconhecer diferentes animais. Você mostra ao filho várias fotos de cachorros, gatos e outros animais, e diz qual é cada um. Com o tempo, o filho começa a reconhecer os animais sem precisar de sua ajuda. Isso é basicamente o que o machine learning faz, mas em vez de um filho, é uma máquina que aprende a partir de dados.\n",
      "\n",
      "O machine learning é usado em muitas áreas, como:\n",
      "\n",
      "- Reconhecimento de voz e imagem\n",
      "- Classificação de textos\n",
      "- Previsão de resultados (por exemplo, prever o preço de ações)\n",
      "- Controle de robôs\n",
      "\n",
      "Existem três tipos principais de machine learning:\n",
      "\n",
      "1. **Aprendizado supervisionado**: a máquina é treinada com dados etiquetados (com rótulos) para aprender a fazer previsões ou classificações.\n",
      "2. **Aprendizado não supervisionado**: a máquina é treinada com dados sem etiquetas para descobrir padrões ou estruturas.\n",
      "3. **Aprendizado por reforço**: a máquina aprende a tomar ações para maximizar um recompensa ou minimizar um custo.\n",
      "\n",
      "Em resumo, o machine learning é uma ferramenta poderosa que permite que as máquinas aprendam e melhorem suas habilidades a partir de dados, tornando-as mais inteligentes e capazes de tomar decisões mais precisas.\n"
     ]
    }
   ],
   "source": [
    "response = client.chat.completions.create(\n",
    "    model=\"llama-3.1-8b-instant\",\n",
    "    messages=[\n",
    "        {\"role\": \"system\", \"content\": \"Atue como um especialista em machine learning.\"},\n",
    "        {\"role\": \"user\", \"content\": \"De forma simples, o que é machine learning?\"}\n",
    "    ],\n",
    "    temperature=0,\n",
    "    top_p=1,\n",
    ")\n",
    "\n",
    "print(response.choices[0].message.content)"
   ]
  },
  {
   "cell_type": "code",
   "execution_count": null,
   "id": "91dcaf30",
   "metadata": {},
   "outputs": [],
   "source": []
  }
 ],
 "metadata": {
  "kernelspec": {
   "display_name": "curso-ia (3.13.2)",
   "language": "python",
   "name": "python3"
  },
  "language_info": {
   "codemirror_mode": {
    "name": "ipython",
    "version": 3
   },
   "file_extension": ".py",
   "mimetype": "text/x-python",
   "name": "python",
   "nbconvert_exporter": "python",
   "pygments_lexer": "ipython3",
   "version": "3.13.2"
  }
 },
 "nbformat": 4,
 "nbformat_minor": 5
}
