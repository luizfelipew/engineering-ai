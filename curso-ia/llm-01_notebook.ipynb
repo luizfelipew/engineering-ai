{
 "cells": [
  {
   "cell_type": "code",
   "execution_count": 3,
   "id": "754d2c89",
   "metadata": {},
   "outputs": [],
   "source": [
    "from groq import Groq\n",
    "import os\n",
    "from dotenv import load_dotenv\n",
    "\n",
    "load_dotenv()\n",
    "\n",
    "Groq.api_key = os.getenv(\"GROQ_API_KEY\")\n",
    "\n",
    "client = Groq()"
   ]
  },
  {
   "cell_type": "code",
   "execution_count": null,
   "id": "a77466d2",
   "metadata": {},
   "outputs": [
    {
     "name": "stdout",
     "output_type": "stream",
     "text": [
      "O machine learning é uma técnica de inteligência artificial que permite que as máquinas aprendam e sejam treinadas para realizar tarefas automaticamente, com base nos dados que elas recebem. Isso é feito a partir de algoritmos que analisam os padrões e relacionamentos presentes nos dados e, com isso, permitem que a máquina faça previsões e tomadas de decisões sem a necessidade de ser explicitamente programada.\n",
      "\n",
      "Imagine que você está tentando ensinar um bebê a reconhecer animais. Você mostre ao bebê várias imagens de gatos, cães, cachorros etc. e, após um tempo, o bebê começa a reconhecer e distinguir entre eles. O machine learning é como isso: uma máquina é alimentada com dados e, com a análise desses dados, ela aprende a realizar tarefas autônomas de forma cada vez mais precisa.\n",
      "\n",
      "Existem três principais tipos de machine learning:\n",
      "\n",
      "1. **Aprendizado supervisionado**: a máquina é treinada com dados etiquetados (com labels) para aprender a realizar tarefas específicas, como reconhecer imagens ou classificar textos.\n",
      "2. **Aprendizado não supervisionado**: a máquina é treinada com dados sem etiquetagem, com o objetivo de descobrir padrões e relação nos dados, como agrupar clientes semelhantes.\n",
      "3. **Aprendizado por reforço**: a máquina aprende com feedbacks de recompensa ou punição sobre as suas ações, como jogar jogos vídeo ou controlar um robô.\n",
      "\n",
      "Esses são os fundamentos do machine learning, uma área em constante evolução que tem aplicativos em diversas áreas, incluindo ciência de dados, inteligência artificial, robótica e muito mais!\n"
     ]
    }
   ],
   "source": [
    "response = client.chat.completions.create(\n",
    "    model=\"llama-3.1-8b-instant\",\n",
    "    messages=[\n",
    "        {\"role\": \"system\", \"content\": \"Atue como um especialista em machine learning.\"},\n",
    "        {\"role\": \"user\", \"content\": \"De forma simples, o que é machine learning?\"}\n",
    "    ],\n",
    "    temperature=0,\n",
    "    top_p=1,\n",
    ")\n",
    "\n",
    "print(response.choices[0].message.content)"
   ]
  },
  {
   "cell_type": "code",
   "execution_count": null,
   "id": "91dcaf30",
   "metadata": {},
   "outputs": [],
   "source": []
  }
 ],
 "metadata": {
  "kernelspec": {
   "display_name": "curso-ia (3.13.2)",
   "language": "python",
   "name": "python3"
  },
  "language_info": {
   "codemirror_mode": {
    "name": "ipython",
    "version": 3
   },
   "file_extension": ".py",
   "mimetype": "text/x-python",
   "name": "python",
   "nbconvert_exporter": "python",
   "pygments_lexer": "ipython3",
   "version": "3.13.2"
  }
 },
 "nbformat": 4,
 "nbformat_minor": 5
}
