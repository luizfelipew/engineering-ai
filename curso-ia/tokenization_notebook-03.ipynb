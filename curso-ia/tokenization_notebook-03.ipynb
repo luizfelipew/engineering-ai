{
 "cells": [
  {
   "cell_type": "code",
   "execution_count": 13,
   "id": "564dd42f",
   "metadata": {},
   "outputs": [
    {
     "name": "stderr",
     "output_type": "stream",
     "text": [
      "[nltk_data] Downloading package punkt to\n",
      "[nltk_data]     /Users/luizfelipew/nltk_data...\n",
      "[nltk_data]   Unzipping tokenizers/punkt.zip.\n",
      "[nltk_data] Downloading package stopwords to\n",
      "[nltk_data]     /Users/luizfelipew/nltk_data...\n",
      "[nltk_data]   Unzipping corpora/stopwords.zip.\n"
     ]
    }
   ],
   "source": [
    "import os\n",
    "import nltk\n",
    "import shutil\n",
    "from whoosh.index import create_in\n",
    "from whoosh.fields import *\n",
    "from whoosh.qparser import QueryParser\n",
    "\n",
    "nltk.download(\"punkt\")  # para word_tokenize\n",
    "nltk.download(\"stopwords\")\n",
    "\n",
    "import warnings\n",
    "\n",
    "warnings.filterwarnings(\"ignore\", category=SyntaxWarning)\n"
   ]
  },
  {
   "cell_type": "code",
   "execution_count": 15,
   "id": "34c56d8a",
   "metadata": {},
   "outputs": [],
   "source": [
    "documents = [\n",
    "    \"Machine learning é um campo da inteligência artificial que permite que computadores aprendam padrões a partir de dados.\",\n",
    "    \"O aprendizado de máquina dá aos sistemas a capacidade de melhorar seu desempenho sem serem explicitamente programados.\",\n",
    "    \"Em vez de seguir apenas regras fixas, o machine learning descobre relações escondidas nos dados.\",\n",
    "    \"Esse campo combina estatística, algoritmos e poder computacional para extrair conhecimento.\",\n",
    "    \"O objetivo é criar modelos capazes de generalizar além dos exemplos vistos no treinamento.\",\n",
    "    \"Aplicações de machine learning vão desde recomendações de filmes até diagnósticos médicos.\",\n",
    "    \"Os algoritmos de aprendizado de máquina transformam dados brutos em previsões úteis.\",\n",
    "    \"Diferente de um software tradicional, o ML adapta-se conforme novos dados chegam.\",\n",
    "    \"O aprendizado pode ser supervisionado, não supervisionado ou por reforço, dependendo do tipo de problema.\",\n",
    "    \"Na prática, machine learning é o motor que impulsiona muitos avanços em visão computacional e processamento de linguagem natural.\",\n",
    "    \"Mais do que encontrar padrões, o machine learning ajuda a tomar decisões baseadas em evidências.\",\n",
    "]"
   ]
  },
  {
   "cell_type": "code",
   "execution_count": 17,
   "id": "44bc2332",
   "metadata": {},
   "outputs": [],
   "source": [
    "def preprocess(text):\n",
    "    # Tokenização em palavras\n",
    "    tokens = nltk.word_tokenize(text.lower())\n",
    "    # word.isalnum() elimina tudo que não seja alphanumérico , tipo ruidos que nãos ervem para análise\n",
    "    tokens = [word for word in tokens if word.isalnum()]\n",
    "    \n",
    "    stopwords = set(nltk.corpus.stopwords.words(\"portuguese\")) - {\"e\", \"ou\", \"não\"}\n",
    "    tokens = [word for word in tokens if word not in stopwords]\n",
    "    return tokens"
   ]
  },
  {
   "cell_type": "code",
   "execution_count": 18,
   "id": "708d6914",
   "metadata": {},
   "outputs": [
    {
     "data": {
      "text/plain": [
       "['machine',\n",
       " 'learning',\n",
       " 'campo',\n",
       " 'inteligência',\n",
       " 'artificial',\n",
       " 'permite',\n",
       " 'computadores',\n",
       " 'aprendam',\n",
       " 'padrões',\n",
       " 'partir',\n",
       " 'dados']"
      ]
     },
     "execution_count": 18,
     "metadata": {},
     "output_type": "execute_result"
    }
   ],
   "source": [
    "text = \"Machine learning é um campo da inteligência artificial, que permite que computadores aprendam padrões a partir de dados.\"\n",
    "preprocess(text)"
   ]
  },
  {
   "cell_type": "code",
   "execution_count": null,
   "id": "97f95da9",
   "metadata": {},
   "outputs": [],
   "source": [
    "if os.path.exists(\"indexdir\"):\n",
    "    shutil.rmtree(\"indexdir\")\n",
    "os.mkdir(\"indexdir\")\n"
   ]
  },
  {
   "cell_type": "code",
   "execution_count": 21,
   "id": "81d93df1",
   "metadata": {},
   "outputs": [],
   "source": [
    "schema = Schema(title=ID(stored=True, unique=True), content=TEXT(stored=True))\n",
    "\n",
    "index = create_in(\"indexdir\", schema)\n",
    "\n",
    "writer = index.writer()\n",
    "for i, doc in enumerate(documents):\n",
    "    writer.add_document(title=str(i), content=doc)\n",
    "writer.commit()"
   ]
  },
  {
   "cell_type": "code",
   "execution_count": 29,
   "id": "dfe295d1",
   "metadata": {},
   "outputs": [],
   "source": [
    "query = \"machine E learning\""
   ]
  },
  {
   "cell_type": "code",
   "execution_count": 30,
   "id": "0ffe919b",
   "metadata": {},
   "outputs": [],
   "source": [
    "def boolean_search(query, index):\n",
    "    parser = QueryParser(\"content\", schema=index.schema)\n",
    "    parsed_query = parser.parse(query)\n",
    "    parsed_query\n",
    "\n",
    "    with index.searcher() as searcher:\n",
    "        results = searcher.search(parsed_query)\n",
    "        return ([(hit[\"title\"], hit[\"content\"]) for hit in results])"
   ]
  },
  {
   "cell_type": "code",
   "execution_count": 32,
   "id": "2de6de30",
   "metadata": {},
   "outputs": [
    {
     "data": {
      "text/plain": [
       "[('5',\n",
       "  'Aplicações de machine learning vão desde recomendações de filmes até diagnósticos médicos.'),\n",
       " ('10',\n",
       "  'Mais do que encontrar padrões, o machine learning ajuda a tomar decisões baseadas em evidências.'),\n",
       " ('2',\n",
       "  'Em vez de seguir apenas regras fixas, o machine learning descobre relações escondidas nos dados.'),\n",
       " ('0',\n",
       "  'Machine learning é um campo da inteligência artificial que permite que computadores aprendam padrões a partir de dados.'),\n",
       " ('9',\n",
       "  'Na prática, machine learning é o motor que impulsiona muitos avanços em visão computacional e processamento de linguagem natural.')]"
      ]
     },
     "execution_count": 32,
     "metadata": {},
     "output_type": "execute_result"
    }
   ],
   "source": [
    "boolean_search(query, index)"
   ]
  },
  {
   "cell_type": "code",
   "execution_count": null,
   "id": "abb0055b",
   "metadata": {},
   "outputs": [],
   "source": []
  }
 ],
 "metadata": {
  "kernelspec": {
   "display_name": "curso-ia (3.13.2)",
   "language": "python",
   "name": "python3"
  },
  "language_info": {
   "codemirror_mode": {
    "name": "ipython",
    "version": 3
   },
   "file_extension": ".py",
   "mimetype": "text/x-python",
   "name": "python",
   "nbconvert_exporter": "python",
   "pygments_lexer": "ipython3",
   "version": "3.13.2"
  }
 },
 "nbformat": 4,
 "nbformat_minor": 5
}
